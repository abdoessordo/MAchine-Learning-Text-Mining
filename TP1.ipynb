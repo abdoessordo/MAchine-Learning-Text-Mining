{
  "nbformat": 4,
  "nbformat_minor": 0,
  "metadata": {
    "colab": {
      "provenance": [],
      "toc_visible": true,
      "authorship_tag": "ABX9TyP8DzgP1EeJhYTuejsCUtUe",
      "include_colab_link": true
    },
    "kernelspec": {
      "name": "python3",
      "display_name": "Python 3"
    },
    "language_info": {
      "name": "python"
    }
  },
  "cells": [
    {
      "cell_type": "markdown",
      "metadata": {
        "id": "view-in-github",
        "colab_type": "text"
      },
      "source": [
        "<a href=\"https://colab.research.google.com/github/abdoessordo/MAchine-Learning-Text-Mining/blob/main/TP1.ipynb\" target=\"_parent\"><img src=\"https://colab.research.google.com/assets/colab-badge.svg\" alt=\"Open In Colab\"/></a>"
      ]
    },
    {
      "cell_type": "markdown",
      "source": [
        "# ACTIVITE 1"
      ],
      "metadata": {
        "id": "U2ObYwGgoe0r"
      }
    },
    {
      "cell_type": "code",
      "execution_count": null,
      "metadata": {
        "id": "qHJG4nG1loTl"
      },
      "outputs": [],
      "source": [
        "import pandas as pd\n",
        "import matplotlib.pyplot as plt\n",
        "from scipy import stats"
      ]
    },
    {
      "cell_type": "code",
      "source": [
        "# Reading data\n",
        "df = pd.read_csv(\"univariate_linear_regression_dataset.csv\")\n",
        "\n",
        "# X, Y\n",
        "X = df.iloc[:, 0]\n",
        "Y = df.iloc[:, 1]"
      ],
      "metadata": {
        "id": "Q5et0v9DmFg5"
      },
      "execution_count": null,
      "outputs": []
    },
    {
      "cell_type": "code",
      "source": [
        "# Plotting \n",
        "axes = plt.axes()\n",
        "axes.grid()\n",
        "plt.scatter(X, Y)\n",
        "plt.show()"
      ],
      "metadata": {
        "id": "syC5cL7ymMWD"
      },
      "execution_count": null,
      "outputs": []
    },
    {
      "cell_type": "code",
      "source": [
        "SL = stats.linregress(X, Y)\n",
        "slope = SL.slope; intercept = SL.intercept; coef_correlation = SL.rvalue"
      ],
      "metadata": {
        "id": "-ugdfE9RmNmB"
      },
      "execution_count": null,
      "outputs": []
    },
    {
      "cell_type": "code",
      "source": [
        "print(f\"slope = {slope}\")\n",
        "print(f\"intercept = {intercept}\")\n",
        "print(f\"coef_correlation = {coef_correlation}\")"
      ],
      "metadata": {
        "id": "vKm9vZZBmN_H"
      },
      "execution_count": null,
      "outputs": []
    },
    {
      "cell_type": "code",
      "source": [
        "def predict(x):\n",
        "    return slope * x + intercept"
      ],
      "metadata": {
        "id": "fJvP8cYwmPl3"
      },
      "execution_count": null,
      "outputs": []
    },
    {
      "cell_type": "code",
      "source": [
        "# Ploting \n",
        "axes = plt.axes()\n",
        "axes.grid()\n",
        "plt.scatter(X,Y)\n",
        "fitLine = predict(X)\n",
        "plt.plot(X, fitLine, c='r')\n",
        "plt.show()"
      ],
      "metadata": {
        "id": "0TF8TGJnmQNN"
      },
      "execution_count": null,
      "outputs": []
    },
    {
      "cell_type": "markdown",
      "source": [
        "# ACTIVITE 2 "
      ],
      "metadata": {
        "id": "LcpR6nqtomgW"
      }
    }
  ]
}